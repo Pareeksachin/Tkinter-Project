{
 "cells": [
  {
   "cell_type": "code",
   "execution_count": 10,
   "metadata": {},
   "outputs": [],
   "source": [
    "from tkinter import*\n",
    "app=Tk()\n",
    "app.title(\"Registration Form\")\n",
    "app.geometry(\"600x600\")\n",
    "label1=Label(app,text=\"Registration form\",width=25,font=('bold',10)).place(x=90,y=55)\n",
    "label2=Label(app,text=\"Full Name\",width=20,font=('bold',10)).place(x=80,y=130)\n",
    "entry1=Entry(app).place(x=240,y=130)\n",
    "label3=Label(app,text=\"Email\",width=20,font=('bold',10)).place(x=68,y=180)\n",
    "entry2=Entry(app).place(x=240,y=180)\n",
    "label4=Label(app,text=\"Gender\",width=20,font=('bold',10)).place(x=70,y=230)\n",
    "var=IntVar()\n",
    "radiobtn=Radiobutton(app,text=\"Male\",padx=5,variable=var,value=1).place(x=235,y=230)\n",
    "radiobtn1=Radiobutton(app,text=\"Female\",padx=5,variable=var,value=2).place(x=290,y=230)\n",
    "\n",
    "label5=Label(app,text=\"Country\",width=20,font=('bold',10)).place(x=70,y=280)\n",
    "lst=['Canada','Australia','India','USA','Africa']\n",
    "c=StringVar()\n",
    "droplist=OptionMenu(app,c,*lst)\n",
    "droplist.config(width=15)\n",
    "c.set(\"Select your country\")\n",
    "droplist.place(x=240,y=280)\n",
    "\n",
    "label6=Label(app,text=\"Programming Language\",width=20,font=(\"bold\",10))\n",
    "label6.place(x=85,y=330)\n",
    "var1=IntVar()\n",
    "Checkbutton(app,text=\"Python\",variable=var1).place(x=235,y=330)\n",
    "Checkbutton(app,text=\"Java\",variable=var1).place(x=290,y=380)\n",
    "Checkbutton(app,text=\"Perl\",variable=var1).place(x=330,y=420)\n",
    "Checkbutton(app,text=\"C++\",variable=var1).place(x=350,y=480)\n",
    "\n",
    "Button(app,text=\"Submit\",bg=\"Red\").place(x=350,y=520)\n",
    "\n",
    "app.mainloop()\n"
   ]
  },
  {
   "cell_type": "code",
   "execution_count": null,
   "metadata": {},
   "outputs": [],
   "source": []
  }
 ],
 "metadata": {
  "kernelspec": {
   "display_name": "Python 3",
   "language": "python",
   "name": "python3"
  },
  "language_info": {
   "codemirror_mode": {
    "name": "ipython",
    "version": 3
   },
   "file_extension": ".py",
   "mimetype": "text/x-python",
   "name": "python",
   "nbconvert_exporter": "python",
   "pygments_lexer": "ipython3",
   "version": "3.7.4"
  }
 },
 "nbformat": 4,
 "nbformat_minor": 2
}
